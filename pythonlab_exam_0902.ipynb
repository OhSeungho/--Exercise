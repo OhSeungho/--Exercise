{
 "cells": [
  {
   "cell_type": "markdown",
   "metadata": {},
   "source": [
    "## 오승호\n",
    "- 수업 문제"
   ]
  },
  {
   "cell_type": "code",
   "execution_count": 5,
   "metadata": {},
   "outputs": [
    {
     "name": "stdout",
     "output_type": "stream",
     "text": [
      "1. 도시를 추가\n",
      " 2. 추가 완료\n",
      " 3. 종료\n"
     ]
    },
    {
     "name": "stdin",
     "output_type": "stream",
     "text": [
      "값을 입력하세요 :  1\n",
      "도시를 영어로 입력하시오 :  seoul\n"
     ]
    },
    {
     "name": "stdout",
     "output_type": "stream",
     "text": [
      "1. 도시를 추가\n",
      " 2. 추가 완료\n",
      " 3. 종료\n"
     ]
    },
    {
     "name": "stdin",
     "output_type": "stream",
     "text": [
      "값을 입력하세요 :  1\n",
      "도시를 영어로 입력하시오 :  busan\n"
     ]
    },
    {
     "name": "stdout",
     "output_type": "stream",
     "text": [
      "1. 도시를 추가\n",
      " 2. 추가 완료\n",
      " 3. 종료\n"
     ]
    },
    {
     "name": "stdin",
     "output_type": "stream",
     "text": [
      "값을 입력하세요 :  1\n",
      "도시를 영어로 입력하시오 :  daejeon\n"
     ]
    },
    {
     "name": "stdout",
     "output_type": "stream",
     "text": [
      "1. 도시를 추가\n",
      " 2. 추가 완료\n",
      " 3. 종료\n"
     ]
    },
    {
     "name": "stdin",
     "output_type": "stream",
     "text": [
      "값을 입력하세요 :  2\n"
     ]
    },
    {
     "name": "stdout",
     "output_type": "stream",
     "text": [
      "['seo', 'bus', 'dae']\n",
      "1. 도시를 추가\n",
      " 2. 추가 완료\n",
      " 3. 종료\n"
     ]
    },
    {
     "name": "stdin",
     "output_type": "stream",
     "text": [
      "값을 입력하세요 :  3\n"
     ]
    }
   ],
   "source": [
    "cities = []\n",
    "def city():\n",
    "    global cities\n",
    "    print(\"1. 도시를 추가\\n\", \"2. 추가 완료\\n\", \"3. 종료\")\n",
    "    while True:\n",
    "        val = input(\"값을 입력하세요 : \")\n",
    "        if val == \"1\":\n",
    "            cities.append(input(\"도시를 영어로 입력하시오 : \"))\n",
    "            print(\"1. 도시를 추가\\n\", \"2. 추가 완료\\n\", \"3. 종료\")\n",
    "        elif val == \"2\":\n",
    "            print(list(map(lambda x:x[:3], cities)))\n",
    "            print(\"1. 도시를 추가\\n\", \"2. 추가 완료\\n\", \"3. 종료\")\n",
    "        else:\n",
    "            break\n",
    "city()"
   ]
  },
  {
   "cell_type": "markdown",
   "metadata": {},
   "source": [
    "- 1번"
   ]
  },
  {
   "cell_type": "code",
   "execution_count": 120,
   "metadata": {},
   "outputs": [
    {
     "data": {
      "text/plain": [
       "'홀수'"
      ]
     },
     "execution_count": 120,
     "metadata": {},
     "output_type": "execute_result"
    }
   ],
   "source": [
    "def is_odd(val):\n",
    "    num = val % 2\n",
    "    if num == 0:\n",
    "        result = \"짝수\"\n",
    "    else:\n",
    "        result = \"홀수\"\n",
    "    return result\n",
    "is_odd(3)"
   ]
  },
  {
   "cell_type": "markdown",
   "metadata": {},
   "source": [
    "- 2번"
   ]
  },
  {
   "cell_type": "code",
   "execution_count": 123,
   "metadata": {},
   "outputs": [
    {
     "data": {
      "text/plain": [
       "15"
      ]
     },
     "execution_count": 123,
     "metadata": {},
     "output_type": "execute_result"
    }
   ],
   "source": [
    "def aver_num(*args):\n",
    "    sum = 0\n",
    "    for i in args:\n",
    "        sum += i\n",
    "    return sum\n",
    "aver_num(1, 2, 3, 4, 5)"
   ]
  },
  {
   "cell_type": "markdown",
   "metadata": {},
   "source": [
    "- 3번"
   ]
  },
  {
   "cell_type": "code",
   "execution_count": 125,
   "metadata": {},
   "outputs": [
    {
     "name": "stdin",
     "output_type": "stream",
     "text": [
      "첫번째 숫자를 입력하세요: 1\n",
      "두번째 숫자를 입력하세요: 2\n"
     ]
    },
    {
     "name": "stdout",
     "output_type": "stream",
     "text": [
      "두 수의 합은 3 입니다\n"
     ]
    }
   ],
   "source": [
    "input1 = int(input(\"첫번째 숫자를 입력하세요:\"))\n",
    "input2 = int(input(\"두번째 숫자를 입력하세요:\"))\n",
    "\n",
    "total = input1 + input2\n",
    "print(\"두 수의 합은 %s 입니다\" % total)"
   ]
  },
  {
   "cell_type": "markdown",
   "metadata": {},
   "source": [
    "int형으로 바꾸어줍니다"
   ]
  },
  {
   "cell_type": "code",
   "execution_count": null,
   "metadata": {},
   "outputs": [],
   "source": []
  }
 ],
 "metadata": {
  "kernelspec": {
   "display_name": "Python 3",
   "language": "python",
   "name": "python3"
  },
  "language_info": {
   "codemirror_mode": {
    "name": "ipython",
    "version": 3
   },
   "file_extension": ".py",
   "mimetype": "text/x-python",
   "name": "python",
   "nbconvert_exporter": "python",
   "pygments_lexer": "ipython3",
   "version": "3.8.5"
  }
 },
 "nbformat": 4,
 "nbformat_minor": 4
}
