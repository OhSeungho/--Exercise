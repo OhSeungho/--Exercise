{
 "cells": [
  {
   "cell_type": "markdown",
   "metadata": {},
   "source": [
    "## 오승호\n",
    "- 수업 문제"
   ]
  },
  {
   "cell_type": "code",
   "execution_count": 3,
   "metadata": {},
   "outputs": [
    {
     "name": "stdout",
     "output_type": "stream",
     "text": [
      "Filename :  Untitled3.ipynb\n",
      "Filename :  Untitled2.ipynb\n",
      "Filename :  Untitled1.ipynb\n",
      "Filename :  Untitled.ipynb\n",
      "Filename :  pythonlab_exam_0903.ipynb\n",
      "Filename :  pythonlab_exam_0902.ipynb\n",
      "Filename :  pythonlab_exam_0902-Copy1.ipynb\n",
      "Filename :  .ipynb_checkpoints\n"
     ]
    }
   ],
   "source": [
    "import os\n",
    "dir = os.listdir('C:\\\\Users\\OhSeungho\\Desktop\\python')\n",
    "count = len(dir)\n",
    "def find_file():\n",
    "    global count\n",
    "    if count == 0:\n",
    "        return\n",
    "    print(\"Filename : \", dir[count - 1])\n",
    "    count = count - 1\n",
    "    find_file()\n",
    "find_file()"
   ]
  },
  {
   "cell_type": "code",
   "execution_count": null,
   "metadata": {},
   "outputs": [],
   "source": []
  }
 ],
 "metadata": {
  "kernelspec": {
   "display_name": "Python 3",
   "language": "python",
   "name": "python3"
  },
  "language_info": {
   "codemirror_mode": {
    "name": "ipython",
    "version": 3
   },
   "file_extension": ".py",
   "mimetype": "text/x-python",
   "name": "python",
   "nbconvert_exporter": "python",
   "pygments_lexer": "ipython3",
   "version": "3.8.5"
  }
 },
 "nbformat": 4,
 "nbformat_minor": 4
}
